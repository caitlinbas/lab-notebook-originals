{
  "nbformat": 4,
  "nbformat_minor": 0,
  "metadata": {
    "kernelspec": {
      "display_name": "Python 3",
      "language": "python",
      "name": "python3"
    },
    "language_info": {
      "codemirror_mode": {
        "name": "ipython",
        "version": 3
      },
      "file_extension": ".py",
      "mimetype": "text/x-python",
      "name": "python",
      "nbconvert_exporter": "python",
      "pygments_lexer": "ipython3",
      "version": "3.7.3"
    },
    "colab": {
      "name": "11 Tuples.ipynb",
      "provenance": [],
      "include_colab_link": true
    }
  },
  "cells": [
    {
      "cell_type": "markdown",
      "metadata": {
        "id": "view-in-github",
        "colab_type": "text"
      },
      "source": [
        "<a href=\"https://colab.research.google.com/github/lmu-cmsi1010-fall2021/lab-notebook-originals/blob/main/Tuples.ipynb\" target=\"_parent\"><img src=\"https://colab.research.google.com/assets/colab-badge.svg\" alt=\"Open In Colab\"/></a>"
      ]
    },
    {
      "cell_type": "markdown",
      "metadata": {
        "id": "Vl2qJ3iwpVGJ"
      },
      "source": [
        "## Tuples\n",
        "\n",
        "For more details on this topic, make sure to read [Think Python](https://greenteapress.com/thinkpython2/thinkpython2.pdf) chapter 12! (many examples in this notebook are taken from there)\n",
        "\n",
        "A **tuple** is like a list, but *immutable* like strings. Although this might be seen as a limitation, immutability actually allows us to do some things with tuples which we can’t do with a list. Immutability eliminates some *overhead* in a computer because the machine can guarantee that an immutable value will never ever ever change, *never ever ever change*.\n",
        "\n",
        "We like to think that Taylor Swift would approve 🎵"
      ]
    },
    {
      "cell_type": "code",
      "metadata": {
        "id": "WzfPCDmUpVGM"
      },
      "source": [
        "# Note how Python differentiates a tuple from a list.\n",
        "t = 'a', 'b', 'c', 'd', 'e'\n",
        "t"
      ],
      "execution_count": null,
      "outputs": []
    },
    {
      "cell_type": "code",
      "metadata": {
        "id": "6_fKdF9vpVGN"
      },
      "source": [
        "# Parentheses might pop a bit more, but they aren't actually necessary.\n",
        "t = ('f', 'g', 'h', 'i', 'j')\n",
        "t"
      ],
      "execution_count": null,
      "outputs": []
    },
    {
      "cell_type": "code",
      "metadata": {
        "id": "S_0i6fSlpVGN"
      },
      "source": [
        "# Commas are the definitive signal of \"tuple-ness.\"\n",
        "t1 = 'abc',\n",
        "print(t1, type(t1), len(t1))"
      ],
      "execution_count": null,
      "outputs": []
    },
    {
      "cell_type": "code",
      "metadata": {
        "id": "bliZTt74pVGN"
      },
      "source": [
        "# Compare this to parentheses without commas.\n",
        "t2 = ('abc')\n",
        "print(t2, type(t2), len(t2))"
      ],
      "execution_count": null,
      "outputs": []
    },
    {
      "cell_type": "code",
      "metadata": {
        "id": "C5kBuX0hpVGO"
      },
      "source": [
        "# The built-in `tuple` function does what you might expect, and\n",
        "# it can create empty tuples.\n",
        "t = tuple()\n",
        "print(t, len(t))"
      ],
      "execution_count": null,
      "outputs": []
    },
    {
      "cell_type": "code",
      "metadata": {
        "id": "Kf0rMtWmpVGO"
      },
      "source": [
        "# If you give `tuple` something that is itself a sequence of parts\n",
        "# (strings, lists, or other tuples) then it separates those parts\n",
        "# as members of the resulting tuple.\n",
        "t = tuple('penguin')\n",
        "print(t, len(t))"
      ],
      "execution_count": null,
      "outputs": []
    },
    {
      "cell_type": "markdown",
      "metadata": {
        "id": "Sv7oGv-BpVGO"
      },
      "source": [
        "Most list operators work for tuples…"
      ]
    },
    {
      "cell_type": "code",
      "metadata": {
        "id": "maCOkWLNpVGO"
      },
      "source": [
        "# Make sure to run something above this which gives `t` a value.\n",
        "t[0]"
      ],
      "execution_count": null,
      "outputs": []
    },
    {
      "cell_type": "code",
      "metadata": {
        "id": "Pn4ysGRCpVGP"
      },
      "source": [
        "t[1:4]"
      ],
      "execution_count": null,
      "outputs": []
    },
    {
      "cell_type": "markdown",
      "metadata": {
        "id": "tIzfISzHpVGP"
      },
      "source": [
        "…except for modifications, because tuples are **immutable**."
      ]
    },
    {
      "cell_type": "code",
      "metadata": {
        "id": "84FUUaQnpVGP"
      },
      "source": [
        "t[0] = 'P'"
      ],
      "execution_count": null,
      "outputs": []
    },
    {
      "cell_type": "code",
      "metadata": {
        "id": "ygxy5KwipVGP"
      },
      "source": [
        "s = \"Puffin' stuff\"\n",
        "s[0]"
      ],
      "execution_count": null,
      "outputs": []
    },
    {
      "cell_type": "code",
      "metadata": {
        "id": "p1mNtH75pVGQ"
      },
      "source": [
        "s[0] = 'P'"
      ],
      "execution_count": null,
      "outputs": []
    },
    {
      "cell_type": "markdown",
      "metadata": {
        "id": "bNzAlHazpVGQ"
      },
      "source": [
        "We can’t modify them, but we can replace one tuple with another by updating the variable assignment. This creates a *new*, distinct tuple."
      ]
    },
    {
      "cell_type": "code",
      "metadata": {
        "id": "XA-d-iScpVGQ"
      },
      "source": [
        "t = ('P',) + t[1:]\n",
        "t"
      ],
      "execution_count": null,
      "outputs": []
    },
    {
      "cell_type": "markdown",
      "metadata": {
        "id": "XTStUkn5pVGR"
      },
      "source": [
        "Tuples can be compared to each other—see the book for the full specification of rules in case these examples seem unintuitive. (especially the second one)"
      ]
    },
    {
      "cell_type": "code",
      "metadata": {
        "id": "ocWIgw43pVGR"
      },
      "source": [
        "(0, 1, 2) < (0, 3, 4)"
      ],
      "execution_count": null,
      "outputs": []
    },
    {
      "cell_type": "code",
      "metadata": {
        "id": "CuCYqPCupVGR"
      },
      "source": [
        "(0, 1, 2000000) < (0, 3, 4)"
      ],
      "execution_count": null,
      "outputs": []
    },
    {
      "cell_type": "code",
      "metadata": {
        "id": "yOA1YNDGpVGS"
      },
      "source": [
        "(0, 1, 2) == (0, 1, 2)"
      ],
      "execution_count": null,
      "outputs": []
    },
    {
      "cell_type": "code",
      "metadata": {
        "id": "0IYxRd09pVGS"
      },
      "source": [
        "(0, 1, 2) >= (0, 0, 2)"
      ],
      "execution_count": null,
      "outputs": []
    },
    {
      "cell_type": "markdown",
      "metadata": {
        "id": "QrW4KpCmpVGS"
      },
      "source": [
        "### Tuple assignment\n",
        "\n",
        "Tuples cleverly address an unexpectedly tricky action in some programming languages—swapping the values of two variables!"
      ]
    },
    {
      "cell_type": "code",
      "metadata": {
        "id": "espb8Az4pVGS"
      },
      "source": [
        "# Let's start with strings…\n",
        "a = 'frog'\n",
        "b = 'bird'\n",
        "\n",
        "print(a)\n",
        "print(b)"
      ],
      "execution_count": null,
      "outputs": []
    },
    {
      "cell_type": "code",
      "metadata": {
        "id": "-UI1QZE7pVGT"
      },
      "source": [
        "# We want to switch their values, but…\n",
        "# (try this code in PythonTutor to see why, step by step!)\n",
        "a = b\n",
        "b = a\n",
        "\n",
        "print(a)\n",
        "print(b)"
      ],
      "execution_count": null,
      "outputs": []
    },
    {
      "cell_type": "code",
      "metadata": {
        "id": "bOZONaJ9pVGT"
      },
      "source": [
        "# Swapping in this manner requires the notorious `temp` variable.\n",
        "# (you'll need to reassign a and b two code blocks up)\n",
        "temp = a\n",
        "a = b\n",
        "b = temp\n",
        "\n",
        "print(a)\n",
        "print(b)"
      ],
      "execution_count": null,
      "outputs": []
    },
    {
      "cell_type": "code",
      "metadata": {
        "id": "VXd3nEwtpVGT"
      },
      "source": [
        "# But thanks to tuples, you can do this…\n",
        "a, b = b, a\n",
        "\n",
        "# 🤯 (in a good way)\n",
        "print(a)\n",
        "print(b)"
      ],
      "execution_count": null,
      "outputs": []
    },
    {
      "cell_type": "code",
      "metadata": {
        "id": "0IeqfatFpVGT"
      },
      "source": [
        "# You can use this notation for more than just swapping of course.\n",
        "a, b = b*2, a*2\n",
        "\n",
        "# Fun tip: run this code block a few times to see if what gets printed\n",
        "# matches what you expect.\n",
        "print(a)\n",
        "print(b)"
      ],
      "execution_count": null,
      "outputs": []
    },
    {
      "cell_type": "code",
      "metadata": {
        "id": "KK7n94BnpVGU"
      },
      "source": [
        "a, b = 1, 2, 3"
      ],
      "execution_count": null,
      "outputs": []
    },
    {
      "cell_type": "markdown",
      "metadata": {
        "id": "a4rzI2I3pVGU"
      },
      "source": [
        "### Tuples as return values\n",
        "\n",
        "Tuples have another great trick up their sleeve—they effectively let you return _more than one value_ as the result of a function!"
      ]
    },
    {
      "cell_type": "code",
      "metadata": {
        "id": "eM41IFBSpVGU"
      },
      "source": [
        "# Let's look at integer division—this operation actually returns _two_ results:\n",
        "# the quotient and the remainder.\n",
        "x = 7\n",
        "y = 3"
      ],
      "execution_count": null,
      "outputs": []
    },
    {
      "cell_type": "code",
      "metadata": {
        "id": "0GBLJRyXpVGU"
      },
      "source": [
        "x // y # Integer division."
      ],
      "execution_count": null,
      "outputs": []
    },
    {
      "cell_type": "code",
      "metadata": {
        "id": "iZy9xpdWpVGU"
      },
      "source": [
        "x % y # Modulus."
      ],
      "execution_count": null,
      "outputs": []
    },
    {
      "cell_type": "code",
      "metadata": {
        "id": "QPvJwDGnpVGV"
      },
      "source": [
        "# The built-in `divmod` function returns the tuple (x // y, x % y).\n",
        "t = divmod(x, y)\n",
        "t"
      ],
      "execution_count": null,
      "outputs": []
    },
    {
      "cell_type": "code",
      "metadata": {
        "id": "01QWOwdupVGV"
      },
      "source": [
        "# If you want the separated values _right away_, you can use the\n",
        "# notation seen earlier. This is called a \"spread\" or \"scatter\"\n",
        "# since we are \"spreading\" out or \"scattering\" the parts of the\n",
        "# tuple across multiple variables.\n",
        "quot, rem = divmod(x, y)\n",
        "quot"
      ],
      "execution_count": null,
      "outputs": []
    },
    {
      "cell_type": "code",
      "metadata": {
        "id": "iZFcGDMRpVGW"
      },
      "source": [
        "rem"
      ],
      "execution_count": null,
      "outputs": []
    },
    {
      "cell_type": "code",
      "metadata": {
        "id": "e4RoUqqOpVGX"
      },
      "source": [
        "# And of course, you can write tuple-returning functions yourself.\n",
        "# For example:\n",
        "def min_max(t):\n",
        "    return min(t), max(t)"
      ],
      "execution_count": null,
      "outputs": []
    },
    {
      "cell_type": "code",
      "metadata": {
        "id": "3klkPeMxpVGX"
      },
      "source": [
        "tup = 0, 1, 2, 3\n",
        "\n",
        "min_max(tup)"
      ],
      "execution_count": null,
      "outputs": []
    },
    {
      "cell_type": "code",
      "metadata": {
        "id": "H7HZl9ghpVGX"
      },
      "source": [
        "# But note: the tuple notation should not be mixed up with having\n",
        "# multiple function arguments…\n",
        "min_max(0, 1, 2, 3)"
      ],
      "execution_count": null,
      "outputs": []
    },
    {
      "cell_type": "code",
      "metadata": {
        "id": "KwlsWqJ2zCc5"
      },
      "source": [
        "# You either use parentheses to write something is a tuple…\n",
        "min_max((0, 1, 2, 3))"
      ],
      "execution_count": null,
      "outputs": []
    },
    {
      "cell_type": "code",
      "metadata": {
        "id": "ZHtpv4TXpVGY"
      },
      "source": [
        "# …or you add something new to the language 😎\n",
        "#\n",
        "# Introducing the * (\"gather\") notation for function arguments…\n",
        "def min_max(*args):\n",
        "    return min(args), max(args)"
      ],
      "execution_count": null,
      "outputs": []
    },
    {
      "cell_type": "code",
      "metadata": {
        "id": "oWQfshFFpVGY"
      },
      "source": [
        "# The * indicates that you want to \"gather\" multiple arguments\n",
        "# into a single tuple when they reach the function:\n",
        "min_max(0, 1, 2, 3)"
      ],
      "execution_count": null,
      "outputs": []
    },
    {
      "cell_type": "code",
      "metadata": {
        "id": "Ga2k8Z18zx0h"
      },
      "source": [
        "# Of course this now means that a tuple argument becomes a\n",
        "# one-member tuple in the function…\n",
        "min_max((0, 1, 2, 3))"
      ],
      "execution_count": null,
      "outputs": []
    },
    {
      "cell_type": "markdown",
      "metadata": {
        "id": "zdS_6-GV0BV3"
      },
      "source": [
        "The takeaway here is that, as you learn a language more deeply, you will see multiple options for doing the same thing. One of the underlying skills to acquire is discerning when which option might be the best match for a specific programming need."
      ]
    },
    {
      "cell_type": "markdown",
      "metadata": {
        "id": "SVYBmV-MpVGY"
      },
      "source": [
        "### Variable-length arguments\n",
        "\n",
        "The `*` notation leads to increased flexibility in many functions, *if those functions choose to use it*. Compare, for example, `max` vs. `sum`."
      ]
    },
    {
      "cell_type": "code",
      "metadata": {
        "id": "sCa-KnZ6pVGY"
      },
      "source": [
        "help(max)"
      ],
      "execution_count": null,
      "outputs": []
    },
    {
      "cell_type": "code",
      "metadata": {
        "id": "Xk3faqdvpVGZ"
      },
      "source": [
        "max(1, 2, 3)"
      ],
      "execution_count": null,
      "outputs": []
    },
    {
      "cell_type": "code",
      "metadata": {
        "id": "CmCzJR-TpVGZ"
      },
      "source": [
        "max([1, 2, 3])"
      ],
      "execution_count": null,
      "outputs": []
    },
    {
      "cell_type": "code",
      "metadata": {
        "id": "9pAX5BfZpVGZ"
      },
      "source": [
        "max()"
      ],
      "execution_count": null,
      "outputs": []
    },
    {
      "cell_type": "code",
      "metadata": {
        "id": "Jr-ovh37pVGa"
      },
      "source": [
        "help(sum)"
      ],
      "execution_count": null,
      "outputs": []
    },
    {
      "cell_type": "code",
      "metadata": {
        "id": "6OIa0YKd09hQ"
      },
      "source": [
        "sum(1, 2, 3)"
      ],
      "execution_count": null,
      "outputs": []
    },
    {
      "cell_type": "code",
      "metadata": {
        "id": "FCxk3l-i1Akq"
      },
      "source": [
        "sum([1, 2, 3])"
      ],
      "execution_count": null,
      "outputs": []
    },
    {
      "cell_type": "markdown",
      "metadata": {
        "id": "nf1s9awjpVGa"
      },
      "source": [
        "### Lab time\n",
        "\n",
        "Write a `sum_all` function that accepts one or more arguments and returns their sum."
      ]
    },
    {
      "cell_type": "code",
      "metadata": {
        "id": "XqCJoArGpVGa"
      },
      "source": [
        "..."
      ],
      "execution_count": null,
      "outputs": []
    },
    {
      "cell_type": "code",
      "metadata": {
        "id": "mwC3BCdjpVGa"
      },
      "source": [
        "sum_all(0, 1, 2, 3)"
      ],
      "execution_count": null,
      "outputs": []
    },
    {
      "cell_type": "markdown",
      "metadata": {
        "id": "HcPFJBGQpVGb"
      },
      "source": [
        "***\n",
        "### Sequence review\n",
        "\n",
        "Now is a good time to take stock of the “data structure zoo” that is available in Python:\n",
        "\n",
        "* Lists\n",
        "* Strings\n",
        "* Dictionaries\n",
        "* Tuples\n",
        "\n",
        "Revisits the slides, class companion notebooks, and labs for these to solidify your understanding of what they are, wht they can do, and how they work."
      ]
    }
  ]
}
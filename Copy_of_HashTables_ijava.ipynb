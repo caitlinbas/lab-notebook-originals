{
  "nbformat": 4,
  "nbformat_minor": 0,
  "metadata": {
    "colab": {
      "name": "Copy of HashTables_ijava.ipynb",
      "provenance": [],
      "collapsed_sections": [],
      "include_colab_link": true
    },
    "kernelspec": {
      "name": "java",
      "display_name": "java"
    }
  },
  "cells": [
    {
      "cell_type": "markdown",
      "metadata": {
        "id": "view-in-github",
        "colab_type": "text"
      },
      "source": [
        "<a href=\"https://colab.research.google.com/github/caitlinbas/lab-notebook-originals/blob/main/Copy_of_HashTables_ijava.ipynb\" target=\"_parent\"><img src=\"https://colab.research.google.com/assets/colab-badge.svg\" alt=\"Open In Colab\"/></a>"
      ]
    },
    {
      "cell_type": "markdown",
      "source": [
        "# Homework 4: Hash Table Problems\n",
        "\n",
        "Welcome to ijava!\n",
        "\n",
        "For this homework, you will choose 3-5 [Hash Table problems from LeetCode](https://leetcode.com/tag/hash-table/) and complete them in this notebook.\n",
        "\n",
        "**Due 4/28**\n",
        "\n",
        "*First!* Save a copy of this notebook in your own Google Drive. \n",
        "\n",
        "*Next,* check out the first few code cells demonstrating how to use java in a jupyter notebook.\n",
        "\n",
        "*Finally,* browse the LeetCode Hash Table problems and choose at least 3 if you're working independently and at least 5 if you're working with a group of 2. Add one additional problem for each groupmate, up to 4 people total. See the example template for additional requirements.\n",
        "\n",
        "Refer to class notes and [review lessons from LeetCode here](https://leetcode.com/explore/learn/card/hash-table/).\n"
      ],
      "metadata": {
        "id": "_1UJXNtjnWsf"
      }
    },
    {
      "cell_type": "markdown",
      "source": [
        "#### **Install and set up java kernel**\n",
        "\n",
        "Run cell below"
      ],
      "metadata": {
        "id": "n3IplBJ0m5e_"
      }
    },
    {
      "cell_type": "code",
      "metadata": {
        "id": "u9zHtHc0vjoR",
        "collapsed": true
      },
      "source": [
        "!wget https://github.com/SpencerPark/IJava/releases/download/v1.3.0/ijava-1.3.0.zip\n",
        "!unzip ijava-1.3.0.zip\n",
        "!python install.py --sys-prefix"
      ],
      "execution_count": null,
      "outputs": []
    },
    {
      "cell_type": "markdown",
      "source": [
        "#### **Two ways to use Java in a jupyter notebook/colab**\n",
        "\n",
        "See this [IntroToJava notebook](https://jupyter.brynmawr.edu/services/public/dblank/CS206%20Data%20Structures/2016-Spring/Notebooks/IntroToJava.ipynb) and try some examples below."
      ],
      "metadata": {
        "id": "WOjxxwQrmQQP"
      }
    },
    {
      "cell_type": "code",
      "metadata": {
        "id": "0f2NrF02vxcN"
      },
      "source": [
        "String greeting = \"Hello\";"
      ],
      "execution_count": null,
      "outputs": []
    },
    {
      "cell_type": "code",
      "metadata": {
        "id": "0KTsu5itxbnT"
      },
      "source": [
        "System.out.println(greeting)"
      ],
      "execution_count": null,
      "outputs": []
    },
    {
      "cell_type": "markdown",
      "source": [
        "[Two Sum](https://leetcode.com/problems/two-sum/)\n",
        "\n",
        "1. Describe what approach you will use and why. What are the base case, expected cases, and edge cases? What's your plan? (a few sentences or bullet points, concise and well explained)\n",
        "\n",
        "\n",
        "*   Base case = where the first value in nums array is equal to target\n",
        "*   Expected case = create a new hashmap that states key and values. Iterate through nums array starting at first element. Check if the required number is in the hashmap and if it is, return the required number and the current number. If not, then add current number and index to hashmap and repeat steps.\n",
        "*   Edge case = if there is no solution to the target sum, return null.\n",
        "\n",
        "*   Plan = use a hashmap to combine values in the nums array to equal the target sum\n",
        "\n",
        "\n",
        "\n"
      ],
      "metadata": {
        "id": "JeDZ2shcqZEm"
      }
    },
    {
      "cell_type": "code",
      "source": [
        "// 2. Code solution here :)\n",
        "class Solution {\n",
        "    public int[] twoSum(int[] nums, int target) {\n",
        "        HashMap<Integer, Integer> map = new HashMap<>();\n",
        "        for (int i=0; i<nums.length; i++){\n",
        "            if(!map.containsKey(target - nums[i])){\n",
        "                map.put(nums[i], i);\n",
        "            }\n",
        "            else{\n",
        "                int[] result = {i, map.get(target - nums[i])};\n",
        "                return result;\n",
        "            }\n",
        "        }\n",
        "    return null;\n",
        "    }\n",
        "}"
      ],
      "metadata": {
        "id": "XqTNBXRaqYiQ"
      },
      "execution_count": null,
      "outputs": []
    },
    {
      "cell_type": "code",
      "source": [
        "// 3. Test your solution here and/or in LeetCode\n",
        "// I tested in LeetCode\n",
        "\n",
        "[2,7,11,15]\n",
        "9\n",
        "[3,2,4]\n",
        "6\n",
        "[3,3]\n",
        "6\n",
        "\n"
      ],
      "metadata": {
        "id": "SjxgiVbwq319"
      },
      "execution_count": null,
      "outputs": []
    },
    {
      "cell_type": "markdown",
      "source": [
        "4. Reflect on challenges and anything you learned (a few sentences or bullet points, concise and well explained)\n",
        "\n",
        "\n",
        "*   Learned how to use a hashmap to reduce the time complexity \n",
        "*   I learned hashmap methods such as containsKey(), put(), and get()\n",
        "\n"
      ],
      "metadata": {
        "id": "t9UPpzwGq7Xk"
      }
    },
    {
      "cell_type": "markdown",
      "source": [
        "[Contains Duplicate](https://leetcode.com/problems/contains-duplicate/submissions/)\n",
        "\n",
        "1. Describe what approach you will use and why. What are the base case, expected cases, and edge cases? What's your plan? (a few sentences or bullet points, concise and well explained)\n",
        "\n",
        "\n",
        "*   Base case = there is a duplicate in nums array\n",
        "*   Expected case = return true if the array has a duplicate and false if there are no duplicates\n",
        "*   Edge case = if the index is empty\n",
        "*   Plan = Use hashmap to keep track of how many times number is seen \n",
        "\n",
        "\n",
        "\n",
        "\n"
      ],
      "metadata": {
        "id": "j__cKizU3NQ1"
      }
    },
    {
      "cell_type": "code",
      "source": [
        "// 2. Code solution here :)\n",
        "class Solution {\n",
        "    public boolean containsDuplicate(int[] nums) {\n",
        "        HashMap<Integer, Integer> map = new HashMap<>();\n",
        "        int length = nums.length;\n",
        "        for(int i=0; i<length; i++){\n",
        "            if(map.containsKey(nums[i])){\n",
        "                return true;\n",
        "            }\n",
        "            else{\n",
        "                map.put(nums[i],1);\n",
        "            }\n",
        "        }\n",
        "        return false;\n",
        "    }\n",
        "}"
      ],
      "metadata": {
        "id": "nkuxwKpcEnn8"
      },
      "execution_count": null,
      "outputs": []
    },
    {
      "cell_type": "code",
      "source": [
        "// 3. Test your solution here and/or in LeetCode\n",
        "//I tested in LeetCode\n",
        "[1,2,3,1]\n",
        "[1,2,3,4]\n",
        "[1,1,1,3,3,4,3,2,4,2]"
      ],
      "metadata": {
        "id": "IKk6ARVbEwBE"
      },
      "execution_count": null,
      "outputs": []
    },
    {
      "cell_type": "markdown",
      "source": [
        "4. Reflect on challenges and anything you learned (a few sentences or bullet points, concise and well explained)\n",
        "\n",
        "\n",
        "*   Learned how to use a hashmap to reduce the time complexity \n",
        "*   learning that hashmaps are the best way to go in programming when collecting key-pair data \n",
        "\n"
      ],
      "metadata": {
        "id": "_ldO_a3GE1yN"
      }
    },
    {
      "cell_type": "markdown",
      "source": [
        "[Contains Duplicate II](https://leetcode.com/problems/contains-duplicate-ii/)\n",
        "\n",
        "1. Describe what approach you will use and why. What are the base case, expected cases, and edge cases? What's your plan? (a few sentences or bullet points, concise and well explained)\n",
        "\n",
        "\n",
        "\n",
        "*   Base case = if there is a duplicate\n",
        "*   Expected case = return true if the array has a duplicate and false if no duplicates \n",
        "*   Edge case = if the index is empty \n",
        "*   Plan = Iterate through the numbers in nums array and insert the number and index in the hashmap. If the hashmap contains nums[i] then check the abs index of nums[i] -j <= k and return true or else keep iterating. Return false if the condition isn't satisfied \n",
        "\n",
        "\n",
        "\n"
      ],
      "metadata": {
        "id": "maO7qcQzGDh8"
      }
    },
    {
      "cell_type": "code",
      "source": [
        "// 2. Code solution here :)\n",
        "class Solution {\n",
        "    public boolean containsNearbyDuplicate(int[] nums, int k) {\n",
        "        HashMap<Integer, Integer> map2 = new HashMap<>();\n",
        "        int length = nums.length;\n",
        "        for(int i=0; i< length; i++){\n",
        "            if(map2.containsKey(nums[i]) && Math.abs(map2.get(nums[i]) - i) <= k) {\n",
        "                return true;\n",
        "            }\n",
        "            else{\n",
        "                map2.put(nums[i], i);\n",
        "            }\n",
        "        }\n",
        "        return false;\n",
        "    }\n",
        "}"
      ],
      "metadata": {
        "id": "9aW99mizGOP3"
      },
      "execution_count": null,
      "outputs": []
    },
    {
      "cell_type": "code",
      "source": [
        "// 3. Test your solution here and/or in LeetCode\n",
        "// I tested in LeetCode \n",
        "[1,2,3,1]\n",
        "3\n",
        "[1,0,1,1]\n",
        "1\n",
        "[1,2,3,1,2,3]\n",
        "2"
      ],
      "metadata": {
        "id": "UJMyqlQmGO68"
      },
      "execution_count": null,
      "outputs": []
    },
    {
      "cell_type": "markdown",
      "source": [
        "4. Reflect on challenges and anything you learned (a few sentences or bullet points, concise and well explained)\n",
        "\n",
        "\n",
        "*   Comparing the Duplicate to DuplicateII, I learned that for the put method that if the map does not contain the key, I would just update map with the current index i, not 1.\n",
        "*   My code would not run and I realized that I was missing a bracket and my return statement was not in the correct spot.\n",
        "\n"
      ],
      "metadata": {
        "id": "-MWviyYmGPK5"
      }
    }
  ]
}
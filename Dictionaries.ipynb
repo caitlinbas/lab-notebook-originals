{
  "nbformat": 4,
  "nbformat_minor": 0,
  "metadata": {
    "kernelspec": {
      "display_name": "Python 3",
      "language": "python",
      "name": "python3"
    },
    "language_info": {
      "codemirror_mode": {
        "name": "ipython",
        "version": 3
      },
      "file_extension": ".py",
      "mimetype": "text/x-python",
      "name": "python",
      "nbconvert_exporter": "python",
      "pygments_lexer": "ipython3",
      "version": "3.7.3"
    },
    "colab": {
      "name": "10 Dictionaries.ipynb",
      "provenance": [],
      "include_colab_link": true
    }
  },
  "cells": [
    {
      "cell_type": "markdown",
      "metadata": {
        "id": "view-in-github",
        "colab_type": "text"
      },
      "source": [
        "<a href=\"https://colab.research.google.com/github/lmu-cmsi1010-fall2021/lab-notebook-originals/blob/main/Dictionaries.ipynb\" target=\"_parent\"><img src=\"https://colab.research.google.com/assets/colab-badge.svg\" alt=\"Open In Colab\"/></a>"
      ]
    },
    {
      "cell_type": "markdown",
      "metadata": {
        "id": "yRfqUqZO2LtL"
      },
      "source": [
        "## Dictionaries\n",
        "\n",
        "For more details on this topic, make sure to read [Think Python](https://greenteapress.com/thinkpython2/thinkpython2.pdf) chapter 11! (many examples in this notebook are taken from there)\n",
        "\n",
        "**Dictionaries** “map” one value to another, in the same way that traditional dictionaries connect a word to its definition. When we “look up” a word in a traditional dictionary, we find the definition that corresponds to that word. Programming dictionaries do the same thing, but from any immutable value to any other value!"
      ]
    },
    {
      "cell_type": "code",
      "metadata": {
        "id": "2ClD5lcK2LtO"
      },
      "source": [
        "# We can create an empty dictionary with the `dict` function:\n",
        "eng2sp = dict()\n",
        "eng2sp"
      ],
      "execution_count": null,
      "outputs": []
    },
    {
      "cell_type": "code",
      "metadata": {
        "id": "LBZ8xyv-2LtP"
      },
      "source": [
        "# Curly braces also specify a dictionary in Python.\n",
        "sp2eng = {}\n",
        "sp2eng"
      ],
      "execution_count": null,
      "outputs": []
    },
    {
      "cell_type": "code",
      "metadata": {
        "id": "cd5Wcn6B2LtP"
      },
      "source": [
        "# Dictionaries are mutable.\n",
        "eng2sp['one'] = 'uno'\n",
        "eng2sp"
      ],
      "execution_count": null,
      "outputs": []
    },
    {
      "cell_type": "code",
      "metadata": {
        "id": "rdS76ip42LtQ"
      },
      "source": [
        "# The curly-brace notation allows us to specify a complete\n",
        "# dictionary in one shot. Writing out a full value in this\n",
        "# way (as with lists and strings) is called a \"literal.\"\n",
        "eng2sp = {\n",
        "    'one': 'uno',\n",
        "    'two': 'dos',\n",
        "    'three': 'tres'\n",
        "}"
      ],
      "execution_count": null,
      "outputs": []
    },
    {
      "cell_type": "code",
      "metadata": {
        "id": "fj31Ra_g2LtQ"
      },
      "source": [
        "eng2sp"
      ],
      "execution_count": null,
      "outputs": []
    },
    {
      "cell_type": "code",
      "metadata": {
        "id": "RDiiAuS72LtQ"
      },
      "source": [
        "eng2sp['two']"
      ],
      "execution_count": null,
      "outputs": []
    },
    {
      "cell_type": "code",
      "metadata": {
        "id": "3hQPhNq92LtQ"
      },
      "source": [
        "# What if we try to look up a key that isn't there?\n",
        "eng2sp['four']"
      ],
      "execution_count": null,
      "outputs": []
    },
    {
      "cell_type": "code",
      "metadata": {
        "id": "r8rk6-U72LtR"
      },
      "source": [
        "# One might think of a list as a dictionary where the keys are numbers…\n",
        "p = ['zero', 'um', 'dois', 'três', 'quatro']"
      ],
      "execution_count": null,
      "outputs": []
    },
    {
      "cell_type": "code",
      "metadata": {
        "id": "xc_fGgRV2LtR"
      },
      "source": [
        "print(p[2], p[4])\n",
        "\n",
        "# But note that numbers have an inherent order to them which allows us\n",
        "# to do operations like slices—this doesn't translate to a dictionary."
      ],
      "execution_count": null,
      "outputs": []
    },
    {
      "cell_type": "code",
      "metadata": {
        "id": "uCBfCLFw2LtR"
      },
      "source": [
        "# `in` will tell us if a dictionary contains a key.\n",
        "'one' in eng2sp"
      ],
      "execution_count": null,
      "outputs": []
    },
    {
      "cell_type": "code",
      "metadata": {
        "id": "aWdKjal82LtR"
      },
      "source": [
        "'uno' in eng2sp"
      ],
      "execution_count": null,
      "outputs": []
    },
    {
      "cell_type": "code",
      "metadata": {
        "id": "d9z4glDQ2LtS"
      },
      "source": [
        "# If we want to check if a _value_ is in a dictionary, we use the `values`\n",
        "# method to derive just its values first.\n",
        "vals = eng2sp.values()\n",
        "'uno' in vals"
      ],
      "execution_count": null,
      "outputs": []
    },
    {
      "cell_type": "code",
      "metadata": {
        "id": "Zrxlixh52LtS"
      },
      "source": [
        "vals"
      ],
      "execution_count": null,
      "outputs": []
    },
    {
      "cell_type": "code",
      "metadata": {
        "id": "GswwETnZ2LtS"
      },
      "source": [
        "'dos' in eng2sp.values()"
      ],
      "execution_count": null,
      "outputs": []
    },
    {
      "cell_type": "code",
      "metadata": {
        "id": "o8GnXpYx2LtT"
      },
      "source": [
        "# Dictionaries make it straightforward to create structures such as histograms.\n",
        "def histogram(s):\n",
        "    \"\"\"Creates a histogram of characters in a string\n",
        "    A histogram is a collection of counters or frequencies\"\"\"\n",
        "    d = dict()\n",
        "    for c in s:        # c for character, s for string\n",
        "        if c not in d: # if c is not already a key in the dictionary\n",
        "            d[c] = 1\n",
        "        else:\n",
        "            d[c] += 1\n",
        "    return d"
      ],
      "execution_count": null,
      "outputs": []
    },
    {
      "cell_type": "code",
      "metadata": {
        "id": "3FImZQFY2LtT"
      },
      "source": [
        "histogram(\"mississippi\")"
      ],
      "execution_count": null,
      "outputs": []
    },
    {
      "cell_type": "markdown",
      "metadata": {
        "id": "W92ytQ4o2LtT"
      },
      "source": [
        "The `histogram` function is a great one to watch in action via [Python Tutor](http://pythontutor.com/visualize.html#code=def%20histogram%28s%29%3A%0A%20%20%20%20%22%22%22Creates%20a%20histogram%20of%20characters%20in%20a%20string%0A%20%20%20%20A%20histogram%20is%20a%20collection%20of%20counters%20or%20frequencies%22%22%22%0A%20%20%20%20d%20%3D%20dict%28%29%0A%20%20%20%20for%20c%20in%20s%3A%20%20%20%20%20%20%20%20%23%20c%20for%20character,%20s%20for%20string%0A%20%20%20%20%20%20%20%20if%20c%20not%20in%20d%3A%20%23%20if%20c%20is%20not%20already%20a%20key%20in%20the%20dictionary%0A%20%20%20%20%20%20%20%20%20%20%20%20d%5Bc%5D%20%3D%201%0A%20%20%20%20%20%20%20%20else%3A%0A%20%20%20%20%20%20%20%20%20%20%20%20d%5Bc%5D%20%2B%3D%201%0A%20%20%20%20return%20d%0A%20%20%20%20%0Ahistogram%28%22mississippi%22%29&cumulative=false&curInstr=0&heapPrimitives=nevernest&mode=display&origin=opt-frontend.js&py=3&rawInputLstJSON=%5B%5D&textReferences=false)!"
      ]
    },
    {
      "cell_type": "markdown",
      "metadata": {
        "id": "eH2v9p_22LtT"
      },
      "source": [
        "***\n",
        "`get(key, default)` **method**\n",
        "\n",
        "We have seen that `[]` will throw an error if we try to access a non-existent key in a dictionary. We can use `in` to check first, as seen above. Alternatively, the `get` method lets us access a key while *providing a default value* if the key isn’t there."
      ]
    },
    {
      "cell_type": "code",
      "metadata": {
        "id": "EmQsB78Q2LtU"
      },
      "source": [
        "h = histogram('brontosaurus')\n",
        "h"
      ],
      "execution_count": null,
      "outputs": []
    },
    {
      "cell_type": "code",
      "metadata": {
        "id": "ekuT2-2R2LtU"
      },
      "source": [
        "h.get('a', 0)"
      ],
      "execution_count": null,
      "outputs": []
    },
    {
      "cell_type": "code",
      "metadata": {
        "id": "8vwDHVae2LtU"
      },
      "source": [
        "h.get('b', 0)"
      ],
      "execution_count": null,
      "outputs": []
    },
    {
      "cell_type": "code",
      "metadata": {
        "id": "Czyua3oS2LtU"
      },
      "source": [
        "h.get('c', 0)"
      ],
      "execution_count": null,
      "outputs": []
    },
    {
      "cell_type": "code",
      "metadata": {
        "id": "RNXoRqS82LtU"
      },
      "source": [
        "h.get('d', 0)"
      ],
      "execution_count": null,
      "outputs": []
    },
    {
      "cell_type": "markdown",
      "metadata": {
        "id": "KUWodGUM2LtV"
      },
      "source": [
        "***\n",
        "**Iterating** through a dictionary\n",
        "\n",
        "Despite their more sophisticated structure, dictionaries *are* still collections of items, and so it is possible to use a `for` loop with them."
      ]
    },
    {
      "cell_type": "code",
      "metadata": {
        "id": "sRr-sxEj2LtV"
      },
      "source": [
        "def print_hist(h):\n",
        "    for c in h:\n",
        "        print(c, h[c])"
      ],
      "execution_count": null,
      "outputs": []
    },
    {
      "cell_type": "code",
      "metadata": {
        "id": "ueDv0olO2LtV"
      },
      "source": [
        "h = histogram('parrot')\n",
        "print_hist(h)"
      ],
      "execution_count": null,
      "outputs": []
    },
    {
      "cell_type": "code",
      "metadata": {
        "id": "HC-7OQhU2LtV"
      },
      "source": [
        "# Dictionaries do not have an inherent order. You can use `sorted` for that:\n",
        "for key in sorted(h):\n",
        "    print(key, h[key])"
      ],
      "execution_count": null,
      "outputs": []
    },
    {
      "cell_type": "code",
      "metadata": {
        "id": "KsVYdXgD2LtV"
      },
      "source": [
        "# Let's use `histogram` as a helper for a function that doesn't return anything\n",
        "# but just prints out a letter count for a given string:\n",
        "def letter_counts(s):\n",
        "    hist = histogram(s)\n",
        "    \n",
        "    for c in 'abcdefghijklmnopqrstuvwxy':\n",
        "        print(c, hist.get(c, 0))\n",
        "        \n",
        "# Can we update this to also print the total letter count of the given string?"
      ],
      "execution_count": null,
      "outputs": []
    },
    {
      "cell_type": "code",
      "metadata": {
        "id": "F0Hp9gzr2LtW"
      },
      "source": [
        "letter_counts('supercalifragilisticexpialidocious') "
      ],
      "execution_count": null,
      "outputs": []
    },
    {
      "cell_type": "markdown",
      "metadata": {
        "id": "utSRrJAe2LtW"
      },
      "source": [
        "***\n",
        "**Reverse lookup**\n",
        "\n",
        "Finding the value for a key is called a *lookup*. Finding the key for a particular value is called (surprise) a *reverse lookup*."
      ]
    },
    {
      "cell_type": "code",
      "metadata": {
        "id": "Vh0rYD6V2LtW"
      },
      "source": [
        "# We need a function to do a reverse lookup…\n",
        "def reverse_lookup(d, v):\n",
        "    for k in d:\n",
        "        if d[k] == v:\n",
        "            return k\n",
        "\n",
        "    # If we get here, then no key mapped to the value.\n",
        "    # To behave the way Python does when we use [] to\n",
        "    # look up a non-existent key, we use `raise`.\n",
        "    raise LookupError()"
      ],
      "execution_count": null,
      "outputs": []
    },
    {
      "cell_type": "code",
      "metadata": {
        "id": "Be_qzeU72LtW"
      },
      "source": [
        "k = reverse_lookup(h, 2)\n",
        "k"
      ],
      "execution_count": null,
      "outputs": []
    },
    {
      "cell_type": "code",
      "metadata": {
        "id": "PJ8d3gKI2LtX"
      },
      "source": [
        "k = reverse_lookup(h, 3)\n",
        "k"
      ],
      "execution_count": null,
      "outputs": []
    },
    {
      "cell_type": "code",
      "metadata": {
        "id": "8QIolkUM2LtX"
      },
      "source": [
        "# If we want to run code that might `raise` an error (and we don't want our\n",
        "# program to just terminate), we can use a `try`/`except` block.\n",
        "#\n",
        "# This lets us `try` the code first. If an error is raised, we can specify\n",
        "# what to do with it in `except`.\n",
        "#\n",
        "# If nothing goes wrong, `except` is skipped and we move on to the next line.\n",
        "try:\n",
        "    k = reverse_lookup(h, 2)\n",
        "    print(k)\n",
        "except LookupError:\n",
        "    print(\"No key found for given value.\")"
      ],
      "execution_count": null,
      "outputs": []
    },
    {
      "cell_type": "markdown",
      "metadata": {
        "id": "Q_ms4w6K2LtY"
      },
      "source": [
        "***\n",
        "**Invert** a dictionary\n",
        "\n",
        "Dictionary keys can go to only one value—but the same value can be present for multiple keys. (think of the histograms above for letters that appear the same number of times)\n",
        "\n",
        "So, in order to *invert* a dictionary, we would need to use lists on the inverted value side:"
      ]
    },
    {
      "cell_type": "code",
      "metadata": {
        "id": "zuRKuIaB2LtY"
      },
      "source": [
        "def invert_dict(d):\n",
        "    inverse = dict()\n",
        "\n",
        "    for key in d:\n",
        "        val = d[key]\n",
        "        if val not in inverse:\n",
        "            inverse[val] = [key] # switch key and val; new value is a list\n",
        "        else:\n",
        "            inverse[val].append(key)\n",
        "\n",
        "    return inverse"
      ],
      "execution_count": null,
      "outputs": []
    },
    {
      "cell_type": "code",
      "metadata": {
        "id": "tHpeK9QC2LtZ"
      },
      "source": [
        "hist = histogram('parrot')\n",
        "hist"
      ],
      "execution_count": null,
      "outputs": []
    },
    {
      "cell_type": "code",
      "metadata": {
        "id": "B9R8FFZO2LtZ"
      },
      "source": [
        "inverse = invert_dict(hist)\n",
        "inverse"
      ],
      "execution_count": null,
      "outputs": []
    },
    {
      "cell_type": "markdown",
      "metadata": {
        "id": "AjMlLZnX2LtZ"
      },
      "source": [
        "We can see all of this in action via [Python Tutor](https://pythontutor.com/visualize.html#code=def%20histogram%28s%29%3A%0A%20%20%20%20%22%22%22Creates%20a%20histogram%20of%20characters%20in%20a%20string%0A%20%20%20%20A%20histogram%20is%20a%20collection%20of%20counters%20or%20frequencies%22%22%22%0A%20%20%20%20d%20%3D%20dict%28%29%0A%20%20%20%20for%20c%20in%20s%3A%20%20%20%20%20%20%20%20%23%20c%20for%20character,%20s%20for%20string%0A%20%20%20%20%20%20%20%20if%20c%20not%20in%20d%3A%20%23%20if%20c%20is%20not%20already%20a%20key%20in%20the%20dictionary%0A%20%20%20%20%20%20%20%20%20%20%20%20d%5Bc%5D%20%3D%201%0A%20%20%20%20%20%20%20%20else%3A%0A%20%20%20%20%20%20%20%20%20%20%20%20d%5Bc%5D%20%2B%3D%201%0A%20%20%20%20return%20d%0A%20%20%20%20%0Adef%20invert_dict%28d%29%3A%0A%20%20%20%20inverse%20%3D%20dict%28%29%0A%0A%20%20%20%20for%20key%20in%20d%3A%0A%20%20%20%20%20%20%20%20val%20%3D%20d%5Bkey%5D%0A%20%20%20%20%20%20%20%20if%20val%20not%20in%20inverse%3A%0A%20%20%20%20%20%20%20%20%20%20%20%20inverse%5Bval%5D%20%3D%20%5Bkey%5D%20%23%20switch%20key%20and%20val%3B%20new%20value%20is%20a%20list%0A%20%20%20%20%20%20%20%20else%3A%0A%20%20%20%20%20%20%20%20%20%20%20%20inverse%5Bval%5D.append%28key%29%0A%0A%20%20%20%20return%20inverse%0A%0Ahist%20%3D%20histogram%28'parrot'%29%0Ainverse%20%3D%20invert_dict%28hist%29%0A&cumulative=false&heapPrimitives=nevernest&mode=edit&origin=opt-frontend.js&py=3&rawInputLstJSON=%5B%5D&textReferences=false)!"
      ]
    },
    {
      "cell_type": "markdown",
      "metadata": {
        "id": "YzL89gkS2LtZ"
      },
      "source": [
        "### Lab Time–Practice working with lists and dictionaries\n",
        "\n",
        "Lists and dictionaries show off Python’s ability to process and manipulate data. The possibilities are endless—but great power requires great practice. Be sure to review the textbook, slides, and class companion notebooks to get the basics, and of course write some code yourself in order to get to know these data structures better firsthand.\n",
        "\n",
        "**1)** Write a function called `is_sorted` that takes a list as an argument and returns True if the list is sorted in ascending order and False otherwise. For example:\n",
        "\n",
        "- `is_sorted([1, 2, 2])` returns `True`\n",
        "- `is_sorted([b, a])` returns `False`"
      ]
    },
    {
      "cell_type": "code",
      "metadata": {
        "id": "JdVwZ3fu2LtZ"
      },
      "source": [
        "..."
      ],
      "execution_count": null,
      "outputs": []
    },
    {
      "cell_type": "markdown",
      "metadata": {
        "id": "74NlyRBR2Lta"
      },
      "source": [
        "Here are some test cases:"
      ]
    },
    {
      "cell_type": "code",
      "metadata": {
        "id": "G9wUas-w2Lta"
      },
      "source": [
        "is_sorted([1, 2, 2]) # Should return True"
      ],
      "execution_count": null,
      "outputs": []
    },
    {
      "cell_type": "code",
      "metadata": {
        "id": "N-qah4k92Ltb"
      },
      "source": [
        "is_sorted(['b', 'a']) # Should return False"
      ],
      "execution_count": null,
      "outputs": []
    },
    {
      "cell_type": "markdown",
      "metadata": {
        "id": "x9EMefa02Ltb"
      },
      "source": [
        "**2)** Write a function named `has_duplicates` that takes a list as a parameter and returns `True` if there is any element that appears more than once in the list."
      ]
    },
    {
      "cell_type": "code",
      "metadata": {
        "id": "NCXgPNH32Ltb"
      },
      "source": [
        "..."
      ],
      "execution_count": null,
      "outputs": []
    },
    {
      "cell_type": "markdown",
      "metadata": {
        "id": "DBntm57w2Ltb"
      },
      "source": [
        "Here are some test cases:"
      ]
    },
    {
      "cell_type": "code",
      "metadata": {
        "id": "05Uw4tPR2Ltb"
      },
      "source": [
        "has_duplicates([1, 2, 2]) # True"
      ],
      "execution_count": null,
      "outputs": []
    },
    {
      "cell_type": "code",
      "metadata": {
        "id": "VUnWP_2d2Ltc"
      },
      "source": [
        "has_duplicates(['b', 'a']) # False"
      ],
      "execution_count": null,
      "outputs": []
    },
    {
      "cell_type": "markdown",
      "metadata": {
        "id": "3e1XeARG2Ltc"
      },
      "source": [
        "**3)** Use a dictionary to write a faster, simpler version of `has_duplicates`."
      ]
    },
    {
      "cell_type": "code",
      "metadata": {
        "id": "tzwVVblz2Ltc"
      },
      "source": [
        "..."
      ],
      "execution_count": null,
      "outputs": []
    },
    {
      "cell_type": "markdown",
      "metadata": {
        "id": "22-nqd9i-mvC"
      },
      "source": [
        "**4)** Try some self-teaching: look up the `set` data structure in Python 3. Can you write yet another version of `has_duplicates` using `set`? The author of *Think Python* [did](http://thinkpython2.com/code/has_duplicates.py)! (that link also has a version that uses dictionaries, if you want to compare what you did in **3**)"
      ]
    },
    {
      "cell_type": "code",
      "metadata": {
        "id": "ZCHRkZtm_FJi"
      },
      "source": [
        "..."
      ],
      "execution_count": null,
      "outputs": []
    }
  ]
}
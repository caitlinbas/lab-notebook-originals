{
  "nbformat": 4,
  "nbformat_minor": 0,
  "metadata": {
    "colab": {
      "name": "Copy of Lab12_TurtleFractals.ipynb",
      "provenance": [],
      "collapsed_sections": [],
      "include_colab_link": true
    },
    "kernelspec": {
      "name": "python3",
      "display_name": "Python 3"
    },
    "language_info": {
      "name": "python"
    }
  },
  "cells": [
    {
      "cell_type": "markdown",
      "metadata": {
        "id": "view-in-github",
        "colab_type": "text"
      },
      "source": [
        "<a href=\"https://colab.research.google.com/github/caitlinbas/lab-notebook-originals/blob/main/Copy_of_Lab12_TurtleFractals.ipynb\" target=\"_parent\"><img src=\"https://colab.research.google.com/assets/colab-badge.svg\" alt=\"Open In Colab\"/></a>"
      ]
    },
    {
      "cell_type": "markdown",
      "metadata": {
        "id": "buuJhZMMNQoW"
      },
      "source": [
        "\n",
        "# Turtle Fractals\n",
        "In this lab you will use Turtle graphics to write recursive functions that you can see in your notebook. First, let's get to some preliminaries..."
      ]
    },
    {
      "cell_type": "markdown",
      "metadata": {
        "id": "cFmY8Nj8OVf4"
      },
      "source": [
        "## Setup\n",
        "To use turtle graphics in a notebook, first run the following code block:"
      ]
    },
    {
      "cell_type": "code",
      "metadata": {
        "id": "2H9KiTyoNPR3"
      },
      "source": [
        "!pip3 install ColabTurtle"
      ],
      "execution_count": null,
      "outputs": []
    },
    {
      "cell_type": "markdown",
      "metadata": {
        "id": "5FlXUAuzUoAp"
      },
      "source": [
        "Once that succeeds, run this one next to import everything in the module:"
      ]
    },
    {
      "cell_type": "code",
      "metadata": {
        "id": "0TWU2wyZNnIK"
      },
      "source": [
        "from ColabTurtle.Turtle import *"
      ],
      "execution_count": null,
      "outputs": []
    },
    {
      "cell_type": "markdown",
      "metadata": {
        "id": "ozCb08bdUttR"
      },
      "source": [
        "Once both of these have executed successfully, you can have a turtle in a Colab Jupyter notebook! Additional documentation can be found here: https://github.com/tolgaatam/ColabTurtle"
      ]
    },
    {
      "cell_type": "markdown",
      "metadata": {
        "id": "vrccqrkTOYZ3"
      },
      "source": [
        "## Turtle Recap\n",
        "All turtle-in-notebook programs must start with `initializeTurtle()` to set things up.\n",
        "\n",
        "Here is a simple program that makes it take 100 steps forward then turns it 90 degrees counterclockwise:"
      ]
    },
    {
      "cell_type": "code",
      "metadata": {
        "id": "E3sTGBcCNtU7"
      },
      "source": [
        "initializeTurtle()\n",
        "\n",
        "#forward(100) # move 100 steps\n",
        "#left(90) # turn 90 degrees\n",
        "\n",
        "def polygon(n):\n",
        "  for _ in range(4):\n",
        "    forward(100) # move 100 steps\n",
        "    left(360/n) # turn n degrees\n",
        "\n",
        "polygon(6)\n",
        "\n"
      ],
      "execution_count": null,
      "outputs": []
    },
    {
      "cell_type": "code",
      "metadata": {
        "id": "T2wrZ2ry0wOE"
      },
      "source": [
        "#Class notes\n",
        "initializeTurtle()\n",
        "def draw(n, x =15):\n",
        "  if n == 0 : \n",
        "    return \n",
        "\n",
        "  forward(x * n)\n",
        "  left(50)\n",
        "  draw(n-1, x)\n",
        "  right(100)\n",
        "  draw(n-1, x)\n",
        "  left(50)\n",
        "  back(x * n)\n",
        "\n",
        "draw(5)"
      ],
      "execution_count": null,
      "outputs": []
    },
    {
      "cell_type": "markdown",
      "metadata": {
        "id": "hTC8Hx3aVlNu"
      },
      "source": [
        "## Turtle Walk Forward—Recursively\n",
        "In the following cell, let's write a **recursive** function to make Turtle walk forward."
      ]
    },
    {
      "cell_type": "code",
      "metadata": {
        "id": "h6zqeDnpG6tv"
      },
      "source": [
        "def walk_forward(n):\n",
        "    if n == 0:\n",
        "        return\n",
        "\n",
        "    forward(1)\n",
        "    walk_forward(n - 1)\n",
        "\n",
        "# Intializing turtle and then walking forward 100\n",
        "# as above. Why so slow little turtle? ---> slow because it is moving one step at a time\n",
        "\n",
        "initializeTurtle()\n",
        "walk_forward(100)"
      ],
      "execution_count": null,
      "outputs": []
    },
    {
      "cell_type": "markdown",
      "metadata": {
        "id": "Hkgc6XVvFKhb"
      },
      "source": [
        "## Recursion with Turtle (Returtlin'?)\n",
        "Shapes that are made of smaller versions of themselves are called *fractals*. They are mathematically interesting, and mother nature agrees! Fractals can be found in many natural objects such as snowflakes, pineapples, and Romanesco broccoli. In the following cell, we have Turtle recursively draw a branch. *You need only run this cell as an example; you do not have to code anything.*"
      ]
    },
    {
      "cell_type": "code",
      "metadata": {
        "id": "7qRE5QMvFbct"
      },
      "source": [
        "def draw_branch(n, branch_length=32):\n",
        "    if n == 0:\n",
        "        return\n",
        "\n",
        "    forward(branch_length * n)\n",
        "    left(50)\n",
        "    draw_branch(n - 1, branch_length)\n",
        "    right(100)\n",
        "    draw_branch(n - 1, branch_length)\n",
        "    left(50)\n",
        "    back(branch_length * n)\n",
        "\n",
        "initializeTurtle()\n",
        "draw_branch(3)\n"
      ],
      "execution_count": null,
      "outputs": []
    },
    {
      "cell_type": "markdown",
      "metadata": {
        "id": "zph8SLSIJaow"
      },
      "source": [
        "## More Turtle Fractals\n",
        "\n",
        "Now it's your turn. In the following cell you will be guided through writing a recursive function to draw a Koch fractal. (Additional details on the Koch fractal can be found in the Turtles & Fractals slides PDF on Brightspace.)\n",
        "\n",
        "**TODO:** Please follow the comments to complete the function `koch_fractal`."
      ]
    },
    {
      "cell_type": "code",
      "metadata": {
        "id": "E3bs-RGgJ_IV"
      },
      "source": [
        "def koch_fractal(n, step):\n",
        "    # Base case: if no turns (n) remain,\n",
        "    # walk forward step amount\n",
        "    if n == 0:\n",
        "        forward(step)\n",
        "        return\n",
        "  \n",
        "    # Recursive case turn: Turtle will 1) draw a smaller\n",
        "    # curve, 2) go left, 3) draw a smaller curve\n",
        "    # 4) go right, 5) draw a smaller curve, 6) go left\n",
        "    # 7) draw a smaller curve\n",
        "    \n",
        "    # START Recursive case\n",
        "    # 1. Draw fractal with one fewer turns by decreasing n\n",
        "    # Keep the step size the same\n",
        "    koch_fractal(n-1, step)\n",
        "    \n",
        "    # 2. Have Turtle go left 60 degrees\n",
        "    left(60)\n",
        "    # 3. Draw fractal with one fewer turns by decreasing n\n",
        "    # Keep the step size the same\n",
        "    koch_fractal(n-1, step)\n",
        "    # 4. Have Turtle go right 120 degrees\n",
        "    right(120)\n",
        "\n",
        "    # 5. Draw fractal with one fewer turns by decreasing n\n",
        "    # Keep the step size the same\n",
        "    koch_fractal(n-1, step)\n",
        "\n",
        "    # 6. Have Turtle go left 60 degrees\n",
        "    left(60)\n",
        "    # 7. Draw fractal with one fewer turns by decreasing n\n",
        "    # Keep the step size the same\n",
        "    koch_fractal(n-1, step)\n",
        "\n",
        "    # END recursive case\n",
        "    return\n",
        "# This brings Turtle to leftmost portion\n",
        "# of screen. You do not need to change this code.\n",
        "initializeTurtle()\n",
        "penup()\n",
        "goto(0, 200)\n",
        "pendown()\n",
        "right(90)\n",
        "\n",
        "# Here you can change calls to koch_fractal to draw curves\n",
        "# Remember the first argument n is how many turns you want\n",
        "# Turtle to make drawing curves, and the second argument step\n",
        "# is how far Turtle will walk forward.\n",
        "# This function is not efficient, so try with small values of n\n",
        "koch_fractal(2, 10)"
      ],
      "execution_count": null,
      "outputs": []
    },
    {
      "cell_type": "markdown",
      "metadata": {
        "id": "Rl7p-gZxUJDb"
      },
      "source": [
        "# Tracing Turtle Fractal\n",
        "Can you trace `koch_fractal` when `n` is 2? You can follow along drawing by hand with Turtle and labeling the function calls to create a stack diagram."
      ]
    },
    {
      "cell_type": "markdown",
      "metadata": {
        "id": "43_wSLJ4UgxG"
      },
      "source": [
        "***\n",
        "\n",
        "> the function first checks to see if n == 0 which it is not so it continues to draw a fractal with 2 turns and moving either to the left or the right and repeating those steps until n ==0 \n",
        "\n",
        "***"
      ]
    },
    {
      "cell_type": "markdown",
      "metadata": {
        "id": "WG9zMdCjI_fS"
      },
      "source": [
        "### Reflections\n",
        "Add a text cell below to answer the following questions:\n",
        "1. What do you feel more confident about after completing this lab? I feel more confident with drawing fractals and how to decrease the number of turns\n",
        "2. What do you feel you can use more help with after completing this lab? I feel that I could use more help with learning how to set up a recursive function \n",
        "3. Do you have any constructive suggestions on how we can help you or improve this lab? n/a "
      ]
    },
    {
      "cell_type": "markdown",
      "metadata": {
        "id": "0KQcA7o9JK7f"
      },
      "source": [
        "### Save your work to GitHub\n",
        "Please save this notebook to your lab repository.\n"
      ]
    }
  ]
}
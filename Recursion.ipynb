{
  "nbformat": 4,
  "nbformat_minor": 0,
  "metadata": {
    "kernelspec": {
      "display_name": "Python 3",
      "language": "python",
      "name": "python3"
    },
    "language_info": {
      "codemirror_mode": {
        "name": "ipython",
        "version": 3
      },
      "file_extension": ".py",
      "mimetype": "text/x-python",
      "name": "python",
      "nbconvert_exporter": "python",
      "pygments_lexer": "ipython3",
      "version": "3.6.8"
    },
    "colab": {
      "name": "Recursion.ipynb",
      "provenance": [],
      "collapsed_sections": []
    }
  },
  "cells": [
    {
      "cell_type": "markdown",
      "metadata": {
        "id": "30cJGPh7fXaf"
      },
      "source": [
        "### Environment diagrams\n",
        "\n",
        "Illustrate what names have been assigned to what values or objects\n",
        "\n",
        "**Global** and **local** frames for different environments–names can only be referenced within their environments\n"
      ]
    },
    {
      "cell_type": "code",
      "metadata": {
        "id": "JZKn08n0fXak"
      },
      "source": [
        "from math import pi\n",
        "tau = 2 * pi"
      ],
      "execution_count": null,
      "outputs": []
    },
    {
      "cell_type": "markdown",
      "metadata": {
        "id": "REItwNxMfXam"
      },
      "source": [
        "[Python Tutor](http://composingprograms.com/tutor.html#code=from+math+import+pi%0Atau+%3D+2+*+pi)\n",
        "***"
      ]
    },
    {
      "cell_type": "code",
      "metadata": {
        "id": "5PaP9_QJfXan"
      },
      "source": [
        "from operator import mul\n",
        "\n",
        "def square(x):\n",
        "    return mul(x, x)"
      ],
      "execution_count": null,
      "outputs": []
    },
    {
      "cell_type": "markdown",
      "metadata": {
        "id": "g1OVJj1yfXap"
      },
      "source": [
        "[Python Tutor](http://composingprograms.com/tutor.html#code=from+operator+import+mul%0Adef+square(x%3A%0A++++return+mul(x,+x)\n",
        "***"
      ]
    },
    {
      "cell_type": "code",
      "metadata": {
        "id": "ZAtazRFnfXap"
      },
      "source": [
        "f = max\n",
        "max = 3\n",
        "result = f(2, 3, 4)\n",
        "max(1, 2)  # Causes an error"
      ],
      "execution_count": null,
      "outputs": []
    },
    {
      "cell_type": "markdown",
      "metadata": {
        "id": "ohwP0T9QfXaq"
      },
      "source": [
        "[Python Tutor](http://composingprograms.com/tutor.html#code=f+%3D+max%0Amax+%3D+3%0Aresult+%3D+f(2,+3,+4%0Amax(1,+2++%23+Causes+an+error)\n",
        "***"
      ]
    },
    {
      "cell_type": "code",
      "metadata": {
        "id": "km9yguEXfXar"
      },
      "source": [
        "def print_twice(iggy):\n",
        "    print(iggy)\n",
        "    print(iggy)\n",
        "\n",
        "def cat_twice(part1, part2):\n",
        "    cat = part1 + part2\n",
        "    print_twice(cat)\n",
        "\n",
        "line1 = \"I know it is wet and the sun is not sunny, \"\n",
        "line2 = \"but we can have lots of good fun that is funny.\"\n",
        "\n",
        "cat_twice(line1, line2)"
      ],
      "execution_count": null,
      "outputs": []
    },
    {
      "cell_type": "markdown",
      "metadata": {
        "id": "FbdfYrTyfXar"
      },
      "source": [
        "[Python Tutor](http://pythontutor.com/composingprograms.html#code=def%20print_twice%28iggy%29%3A%0A%20%20%20%20print%28iggy%29%0A%20%20%20%20print%28iggy%29%0A%0Adef%20cat_twice%28part1,%20part2%29%3A%0A%20%20%20%20cat%20%3D%20part1%20%2B%20part2%0A%20%20%20%20print_twice%28cat%29%0A%0Aline1%20%3D%20%22I%20know%20it%20is%20wet%20and%20the%20sun%20is%20not%20sunny,%20%22%0Aline2%20%3D%20%22but%20we%20can%20have%20lots%20of%20good%20fun%20that%20is%20funny.%22%0A%0Acat_twice%28line1,%20line2%29&cumulative=true&curInstr=0&mode=display&origin=composingprograms.js&py=3&rawInputLstJSON=%5B%5D)"
      ]
    },
    {
      "cell_type": "markdown",
      "metadata": {
        "id": "E0mOFvdjfXas"
      },
      "source": [
        "***\n",
        "\n",
        "### Recursive functions call themselves\n",
        "\n",
        "Examples are from [Composing Programs 1.7](http://composingprograms.com/pages/17-recursive-functions.html).\n"
      ]
    },
    {
      "cell_type": "markdown",
      "metadata": {
        "id": "qNOzSSgcfXat"
      },
      "source": [
        "\n",
        "**Example 1: Sum digits**"
      ]
    },
    {
      "cell_type": "code",
      "metadata": {
        "id": "2tTMqNW-fXau"
      },
      "source": [
        "# get the last digit\n",
        "12345678"
      ],
      "execution_count": null,
      "outputs": []
    },
    {
      "cell_type": "code",
      "metadata": {
        "id": "nh4U0V0cfXav"
      },
      "source": [
        "# get all but the last digit\n",
        "12345678"
      ],
      "execution_count": null,
      "outputs": []
    },
    {
      "cell_type": "code",
      "metadata": {
        "id": "C2ZlkhJSfXav"
      },
      "source": [
        "def sum_digits(n):\n",
        "    \"\"\"Return the sum of the digits of positive integer n.\"\"\"\n",
        "    \n",
        "    # simple sub-problem\n",
        "    if ...:\n",
        "        return ...\n",
        "\n",
        "    # rest of the problem\n",
        "    else:\n",
        "        all_but_last = ... \n",
        "        last = ...\n",
        "        return ..."
      ],
      "execution_count": null,
      "outputs": []
    },
    {
      "cell_type": "code",
      "metadata": {
        "id": "eAIPCqCqfXaw"
      },
      "source": [
        "sum_digits(4)"
      ],
      "execution_count": null,
      "outputs": []
    },
    {
      "cell_type": "code",
      "metadata": {
        "id": "E4JXJFdffXaw"
      },
      "source": [
        "sum_digits(18117)"
      ],
      "execution_count": null,
      "outputs": []
    },
    {
      "cell_type": "code",
      "metadata": {
        "id": "MdiYOK49fXax"
      },
      "source": [
        "sum_digits(9437184)"
      ],
      "execution_count": null,
      "outputs": []
    },
    {
      "cell_type": "code",
      "metadata": {
        "id": "hAH6kTrgfXax"
      },
      "source": [
        "sum_digits(985430290987654312345670987652345987123456709874)"
      ],
      "execution_count": null,
      "outputs": []
    },
    {
      "cell_type": "markdown",
      "metadata": {
        "id": "TzgJn36_fXay"
      },
      "source": [
        "***\n",
        "**Example 2: Factorials**\n",
        "\n",
        "A factorial is is the product of all the integers from 1 to some number. For example the factorial of 4, denoted `4!`, is 1\\*2\\*3\\*4 = 24"
      ]
    },
    {
      "cell_type": "code",
      "metadata": {
        "id": "sTdLyvRbfXay"
      },
      "source": [
        "def factorial(n):\n",
        "    \"\"\"Calculate the factorial of an integer x\"\"\"\n",
        "\n",
        "    # simple sub-problem\n",
        "    if ...:\n",
        "        return ...\n",
        "    \n",
        "    # rest of the problem\n",
        "    else:\n",
        "        return ..."
      ],
      "execution_count": null,
      "outputs": []
    },
    {
      "cell_type": "code",
      "metadata": {
        "id": "xcw5I4abfXaz"
      },
      "source": [
        "factorial(4)"
      ],
      "execution_count": null,
      "outputs": []
    },
    {
      "cell_type": "markdown",
      "metadata": {
        "id": "KfaS6AJSfXa1"
      },
      "source": [
        "<img src=\"https://imgs.xkcd.com/comics/fixing_problems.png\">\n",
        "\n",
        "\n",
        "https://xkcd.com/1739/"
      ]
    },
    {
      "cell_type": "markdown",
      "metadata": {
        "id": "-pkJFzsZfXaz"
      },
      "source": [
        "<img src=\"https://ih1.redbubble.net/image.460299119.9649/st%2Csmall%2C215x235-pad%2C210x230%2Cf8f8f8.u1.jpg\">"
      ]
    }
  ]
}